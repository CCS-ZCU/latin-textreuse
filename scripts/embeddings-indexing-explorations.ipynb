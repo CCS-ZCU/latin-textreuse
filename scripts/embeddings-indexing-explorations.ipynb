{
 "cells": [
  {
   "cell_type": "code",
   "id": "initial_id",
   "metadata": {
    "collapsed": true,
    "ExecuteTime": {
     "end_time": "2025-07-21T22:37:01.544300Z",
     "start_time": "2025-07-21T22:37:01.540016Z"
    }
   },
   "source": [
    "import pandas as pd\n",
    "import duckdb\n",
    "import os\n",
    "import os, json\n",
    "from uuid import uuid4\n",
    "import pandas as pd\n",
    "pd.set_option(\"display.max_colwidth\", None)\n",
    "pd.set_option(\"display.width\", 500)  # adjusts total line width before wrapping\n",
    "import numpy as np\n",
    "import pickle\n",
    "from sentence_transformers import SentenceTransformer\n",
    "import faiss\n",
    "from sklearn.preprocessing import normalize\n"
   ],
   "outputs": [],
   "execution_count": 22
  },
  {
   "metadata": {
    "ExecuteTime": {
     "end_time": "2025-07-21T22:27:30.757433Z",
     "start_time": "2025-07-21T22:27:27.727869Z"
    }
   },
   "cell_type": "code",
   "source": "model = SentenceTransformer(\"sentence-transformers/LaBSE\")",
   "id": "6079ae47298200d6",
   "outputs": [],
   "execution_count": 8
  },
  {
   "metadata": {
    "ExecuteTime": {
     "end_time": "2025-07-21T22:18:21.888641Z",
     "start_time": "2025-07-21T22:18:21.871578Z"
    }
   },
   "cell_type": "code",
   "source": "conn = duckdb.connect('/srv/data/grela_v0-2.duckdb', read_only=True)",
   "id": "34ffa543fd52b6b3",
   "outputs": [],
   "execution_count": 3
  },
  {
   "metadata": {
    "ExecuteTime": {
     "end_time": "2025-07-21T22:19:12.611037Z",
     "start_time": "2025-07-21T22:19:05.919471Z"
    }
   },
   "cell_type": "code",
   "source": [
    "### load vulgate embeddings\n",
    "vulgate_df = conn.execute(\"\"\"\n",
    "    SELECT sentence_id, embedding\n",
    "    FROM sentence_embeddings\n",
    "    WHERE grela_id LIKE 'vulgate_%'\n",
    "\"\"\").fetchdf()\n",
    "\n",
    "# Convert JSON to numpy array\n",
    "embeddings = np.array([json.loads(e) for e in vulgate_df['embedding']]).astype('float32')\n",
    "sentence_ids = vulgate_df['sentence_id'].tolist()"
   ],
   "id": "77a2e1c83c224713",
   "outputs": [],
   "execution_count": 4
  },
  {
   "metadata": {
    "ExecuteTime": {
     "end_time": "2025-07-21T22:19:25.320440Z",
     "start_time": "2025-07-21T22:19:25.254695Z"
    }
   },
   "cell_type": "code",
   "source": "normalized_embeddings = normalize(embeddings, norm='l2')",
   "id": "3e81cb15d8b799e8",
   "outputs": [],
   "execution_count": 5
  },
  {
   "metadata": {
    "ExecuteTime": {
     "end_time": "2025-07-21T22:23:32.840804Z",
     "start_time": "2025-07-21T22:23:32.768664Z"
    }
   },
   "cell_type": "code",
   "source": [
    "d = normalized_embeddings.shape[1]  # 768\n",
    "index = faiss.IndexFlatIP(d)        # Inner product = cosine if normalized\n",
    "index.add(normalized_embeddings)"
   ],
   "id": "73e15c16f1d0bfcd",
   "outputs": [],
   "execution_count": 7
  },
  {
   "metadata": {
    "ExecuteTime": {
     "end_time": "2025-07-21T22:28:47.377793Z",
     "start_time": "2025-07-21T22:28:47.353180Z"
    }
   },
   "cell_type": "code",
   "source": [
    "\n",
    "query = \"The Word became flesh and made his dwelling among us. We have seen his glory, the glory of the one and only Son, who came from the Father, full of grace and truth.\"\n",
    "embedding = model.encode([query], convert_to_numpy=True)\n",
    "# Normalize for cosine similarity\n",
    "embedding = normalize(embedding, norm='l2')"
   ],
   "id": "5e51c40af7d023e7",
   "outputs": [],
   "execution_count": 10
  },
  {
   "metadata": {
    "ExecuteTime": {
     "end_time": "2025-07-21T22:32:15.689407Z",
     "start_time": "2025-07-21T22:32:15.678084Z"
    }
   },
   "cell_type": "code",
   "source": [
    "k = 5  # number of nearest neighbors\n",
    "scores, indices = index.search(embedding, k)"
   ],
   "id": "d9af08c6c5af490a",
   "outputs": [],
   "execution_count": 16
  },
  {
   "metadata": {
    "ExecuteTime": {
     "end_time": "2025-07-21T22:37:04.438671Z",
     "start_time": "2025-07-21T22:37:04.410767Z"
    }
   },
   "cell_type": "code",
   "source": [
    "results = []\n",
    "for idx, score in zip(indices[0], scores[0]):\n",
    "    sid = sentence_ids[idx]\n",
    "    row = conn.execute(f\"\"\"\n",
    "        SELECT s.sentence_id, s.text, w.title\n",
    "        FROM sentences s\n",
    "        JOIN works w ON s.grela_id = w.grela_id\n",
    "        WHERE s.sentence_id = '{sid}'\n",
    "    \"\"\").fetchone()\n",
    "\n",
    "    if row:\n",
    "        sentence_id, text, title = row\n",
    "        results.append({\n",
    "            \"score\": score,\n",
    "            \"sentence_id\": sentence_id,\n",
    "            \"text\": text,\n",
    "            \"title\": title\n",
    "        })\n",
    "\n",
    "# Convert to DataFrame\n",
    "df_results = pd.DataFrame(results)\n",
    "df_results = df_results.sort_values(by=\"score\", ascending=False).reset_index(drop=True)\n",
    "df_results"
   ],
   "id": "f844b41a6766fdc5",
   "outputs": [
    {
     "data": {
      "text/plain": [
       "      score                          sentence_id                                                                                                                                                                                               text                  title\n",
       "0  0.787623  vulgate_tlg0031.tlg004.obi-lat:1.14                                                                et Verbum caro factum est et habitavit in nobis et vidimus gloriam eius gloriam quasi unigeniti a Patre plenum gratiae et veritatis         Vulgate - John\n",
       "1  0.588898   vulgate_tlg0527.tlg048.obi-lat:9.6  parvulus enim natus est nobis filius datus est nobis et factus est principatus super umerum eius et vocabitur nomen eius Admirabilis consiliarius Deus fortis Pater futuri saeculi Princeps pacis       Vulgate - Isaiah\n",
       "2  0.552220  vulgate_tlg0031.tlg023.obi-lat:5.20                                                  et scimus quoniam Filius Dei venit et dedit nobis sensum ut cognoscamus verum Deum et simus in vero Filio eius hic est verus Deus et vita aeterna       Vulgate - 1 John\n",
       "3  0.508574  vulgate_tlg0527.tlg005.obi-lat:5.24                          ecce ostendit nobis Dominus Deus noster maiestatem et magnitudinem suam vocem eius audivimus de medio ignis et probavimus hodie quod loquente Deo cum homine vixerit homo  Vulgate - Deuteronomy\n",
       "4  0.505002   vulgate_tlg0527.tlg046.obi-lat:9.7                         et auferam sanguinem eius de ore eius et abominationes eius de medio dentium eius et relinquetur etiam ipse Deo nostro et erit quasi dux in Iuda et Accaron quasi Iebuseus    Vulgate - Zechariah"
      ],
      "text/html": [
       "<div>\n",
       "<style scoped>\n",
       "    .dataframe tbody tr th:only-of-type {\n",
       "        vertical-align: middle;\n",
       "    }\n",
       "\n",
       "    .dataframe tbody tr th {\n",
       "        vertical-align: top;\n",
       "    }\n",
       "\n",
       "    .dataframe thead th {\n",
       "        text-align: right;\n",
       "    }\n",
       "</style>\n",
       "<table border=\"1\" class=\"dataframe\">\n",
       "  <thead>\n",
       "    <tr style=\"text-align: right;\">\n",
       "      <th></th>\n",
       "      <th>score</th>\n",
       "      <th>sentence_id</th>\n",
       "      <th>text</th>\n",
       "      <th>title</th>\n",
       "    </tr>\n",
       "  </thead>\n",
       "  <tbody>\n",
       "    <tr>\n",
       "      <th>0</th>\n",
       "      <td>0.787623</td>\n",
       "      <td>vulgate_tlg0031.tlg004.obi-lat:1.14</td>\n",
       "      <td>et Verbum caro factum est et habitavit in nobis et vidimus gloriam eius gloriam quasi unigeniti a Patre plenum gratiae et veritatis</td>\n",
       "      <td>Vulgate - John</td>\n",
       "    </tr>\n",
       "    <tr>\n",
       "      <th>1</th>\n",
       "      <td>0.588898</td>\n",
       "      <td>vulgate_tlg0527.tlg048.obi-lat:9.6</td>\n",
       "      <td>parvulus enim natus est nobis filius datus est nobis et factus est principatus super umerum eius et vocabitur nomen eius Admirabilis consiliarius Deus fortis Pater futuri saeculi Princeps pacis</td>\n",
       "      <td>Vulgate - Isaiah</td>\n",
       "    </tr>\n",
       "    <tr>\n",
       "      <th>2</th>\n",
       "      <td>0.552220</td>\n",
       "      <td>vulgate_tlg0031.tlg023.obi-lat:5.20</td>\n",
       "      <td>et scimus quoniam Filius Dei venit et dedit nobis sensum ut cognoscamus verum Deum et simus in vero Filio eius hic est verus Deus et vita aeterna</td>\n",
       "      <td>Vulgate - 1 John</td>\n",
       "    </tr>\n",
       "    <tr>\n",
       "      <th>3</th>\n",
       "      <td>0.508574</td>\n",
       "      <td>vulgate_tlg0527.tlg005.obi-lat:5.24</td>\n",
       "      <td>ecce ostendit nobis Dominus Deus noster maiestatem et magnitudinem suam vocem eius audivimus de medio ignis et probavimus hodie quod loquente Deo cum homine vixerit homo</td>\n",
       "      <td>Vulgate - Deuteronomy</td>\n",
       "    </tr>\n",
       "    <tr>\n",
       "      <th>4</th>\n",
       "      <td>0.505002</td>\n",
       "      <td>vulgate_tlg0527.tlg046.obi-lat:9.7</td>\n",
       "      <td>et auferam sanguinem eius de ore eius et abominationes eius de medio dentium eius et relinquetur etiam ipse Deo nostro et erit quasi dux in Iuda et Accaron quasi Iebuseus</td>\n",
       "      <td>Vulgate - Zechariah</td>\n",
       "    </tr>\n",
       "  </tbody>\n",
       "</table>\n",
       "</div>"
      ]
     },
     "execution_count": 23,
     "metadata": {},
     "output_type": "execute_result"
    }
   ],
   "execution_count": 23
  },
  {
   "metadata": {},
   "cell_type": "code",
   "outputs": [],
   "execution_count": null,
   "source": "",
   "id": "d614045ed38acd77"
  },
  {
   "metadata": {},
   "cell_type": "code",
   "outputs": [],
   "execution_count": null,
   "source": [
    "# load the register\n",
    "\n",
    "register = conn.execute(\"\"\"\n",
    "    SELECT s.sentence_id, s.text, e.embedding\n",
    "    FROM sentence_embeddings e\n",
    "    JOIN sentences s ON e.sentence_id = s.sentence_id\n",
    "    WHERE e.grela_id = 'cc_10265'\n",
    "\"\"\").fetchdf()"
   ],
   "id": "2d5a7575b0c6f978"
  },
  {
   "metadata": {
    "ExecuteTime": {
     "end_time": "2025-07-21T22:37:23.207628Z",
     "start_time": "2025-07-21T22:37:23.156395Z"
    }
   },
   "cell_type": "code",
   "outputs": [],
   "execution_count": 24,
   "source": "conn.close()",
   "id": "362a9481c12a388c"
  }
 ],
 "metadata": {
  "kernelspec": {
   "display_name": "Python 3",
   "language": "python",
   "name": "python3"
  },
  "language_info": {
   "codemirror_mode": {
    "name": "ipython",
    "version": 2
   },
   "file_extension": ".py",
   "mimetype": "text/x-python",
   "name": "python",
   "nbconvert_exporter": "python",
   "pygments_lexer": "ipython2",
   "version": "2.7.6"
  }
 },
 "nbformat": 4,
 "nbformat_minor": 5
}
